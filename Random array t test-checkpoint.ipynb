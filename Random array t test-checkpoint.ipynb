{
 "cells": [
  {
   "cell_type": "markdown",
   "id": "f8722f36",
   "metadata": {},
   "source": [
    "# RANDOM FUNCTION"
   ]
  },
  {
   "cell_type": "raw",
   "id": "6e162a28",
   "metadata": {},
   "source": [
    "Name - Sarthak Bante\n",
    "Roll No - 07\n",
    "Class - 3rd year\n",
    "Section - CSE"
   ]
  },
  {
   "cell_type": "code",
   "execution_count": 24,
   "id": "75549ef9",
   "metadata": {},
   "outputs": [
    {
     "name": "stdout",
     "output_type": "stream",
     "text": [
      "[42, 18, 41, 24, 38, 35, 19, 31, 3, 8, 46, 34, 31, 3, 13, 30, 31, 39, 11, 45, 16, 23, 11, 31, 21, 29, 46, 33, 1, 23, 36, 40, 26, 14, 27, 57, 43, 38, 24, 52]\n"
     ]
    }
   ],
   "source": [
    "import random\n",
    "\n",
    "# Generate a random array of size 10 with values between 1 and 62\n",
    "random_array = [random.randint(1, 62) for _ in range(40)]\n",
    "\n",
    "# Print the random array\n",
    "print(random_array)\n"
   ]
  },
  {
   "cell_type": "code",
   "execution_count": 25,
   "id": "fd399385",
   "metadata": {},
   "outputs": [],
   "source": [
    "age_sample = random_array"
   ]
  },
  {
   "cell_type": "code",
   "execution_count": 26,
   "id": "b4cc3dff",
   "metadata": {},
   "outputs": [
    {
     "data": {
      "text/plain": [
       "[42,\n",
       " 18,\n",
       " 41,\n",
       " 24,\n",
       " 38,\n",
       " 35,\n",
       " 19,\n",
       " 31,\n",
       " 3,\n",
       " 8,\n",
       " 46,\n",
       " 34,\n",
       " 31,\n",
       " 3,\n",
       " 13,\n",
       " 30,\n",
       " 31,\n",
       " 39,\n",
       " 11,\n",
       " 45,\n",
       " 16,\n",
       " 23,\n",
       " 11,\n",
       " 31,\n",
       " 21,\n",
       " 29,\n",
       " 46,\n",
       " 33,\n",
       " 1,\n",
       " 23,\n",
       " 36,\n",
       " 40,\n",
       " 26,\n",
       " 14,\n",
       " 27,\n",
       " 57,\n",
       " 43,\n",
       " 38,\n",
       " 24,\n",
       " 52]"
      ]
     },
     "execution_count": 26,
     "metadata": {},
     "output_type": "execute_result"
    }
   ],
   "source": [
    "age_sample"
   ]
  },
  {
   "cell_type": "code",
   "execution_count": 27,
   "id": "874eff28",
   "metadata": {},
   "outputs": [],
   "source": [
    "from scipy.stats import ttest_1samp"
   ]
  },
  {
   "cell_type": "code",
   "execution_count": 28,
   "id": "1ed30613",
   "metadata": {},
   "outputs": [],
   "source": [
    "ttest, p_value = ttest_1samp(age_sample, 40)"
   ]
  },
  {
   "cell_type": "code",
   "execution_count": 29,
   "id": "b55135c5",
   "metadata": {},
   "outputs": [
    {
     "name": "stdout",
     "output_type": "stream",
     "text": [
      "4.271937793275464e-06\n"
     ]
    }
   ],
   "source": [
    "print(p_value)"
   ]
  },
  {
   "cell_type": "code",
   "execution_count": 30,
   "id": "7b5520e9",
   "metadata": {},
   "outputs": [
    {
     "name": "stdout",
     "output_type": "stream",
     "text": [
      " we are rejecting null hypothesis\n"
     ]
    }
   ],
   "source": [
    "if p_value < 0.05: #alpha value is 0.05 or 5%\n",
    "    print(\" we are rejecting null hypothesis\")\n",
    "else:\n",
    "    print(\"we are accepting null hypothesis\")"
   ]
  },
  {
   "cell_type": "code",
   "execution_count": null,
   "id": "bed12bc2",
   "metadata": {},
   "outputs": [],
   "source": []
  },
  {
   "cell_type": "markdown",
   "id": "4f1c1d2c",
   "metadata": {},
   "source": [
    "# END"
   ]
  },
  {
   "cell_type": "code",
   "execution_count": null,
   "id": "a532f2f0",
   "metadata": {},
   "outputs": [],
   "source": []
  }
 ],
 "metadata": {
  "kernelspec": {
   "display_name": "Python 3 (ipykernel)",
   "language": "python",
   "name": "python3"
  },
  "language_info": {
   "codemirror_mode": {
    "name": "ipython",
    "version": 3
   },
   "file_extension": ".py",
   "mimetype": "text/x-python",
   "name": "python",
   "nbconvert_exporter": "python",
   "pygments_lexer": "ipython3",
   "version": "3.11.5"
  }
 },
 "nbformat": 4,
 "nbformat_minor": 5
}
