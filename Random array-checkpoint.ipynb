{
 "cells": [
  {
   "cell_type": "raw",
   "id": "b82ca4bd",
   "metadata": {},
   "source": [
    "Name - Sarthak Bante\n",
    "Roll No - 07\n",
    "Class - 3rd year\n",
    "Section - CSE"
   ]
  },
  {
   "cell_type": "code",
   "execution_count": 7,
   "id": "9f3297a5",
   "metadata": {},
   "outputs": [
    {
     "name": "stdout",
     "output_type": "stream",
     "text": [
      "[3, 15, 28, 28, 35, 21, 18, 24, 14, 31, 20, 30, 21, 37, 13, 4, 22, 28, 12, 21, 8, 24, 4, 12, 11, 37, 16, 31, 10, 25, 40, 8, 32, 18, 36, 40, 11, 20, 16, 32, 19, 34, 16, 16, 16, 18, 4, 28, 26, 35, 2, 26, 37, 26, 12, 16, 3, 7, 21, 25, 35, 9, 16, 7, 9, 37, 34, 21, 19, 1, 15, 29, 26, 32, 37, 28, 30, 16, 40, 10, 13, 15, 13, 23, 14, 1, 3, 2, 38, 3, 6, 16, 18, 30, 10, 20, 24, 22, 29, 10]\n"
     ]
    }
   ],
   "source": [
    "import random\n",
    "\n",
    "# Generate a random array of size 10 with values between 1 and 62\n",
    "random_array = [random.randint(1, 40) for _ in range(100)]\n",
    "\n",
    "# Print the random array\n",
    "print(random_array)"
   ]
  },
  {
   "cell_type": "code",
   "execution_count": null,
   "id": "d0d2e722",
   "metadata": {},
   "outputs": [],
   "source": []
  }
 ],
 "metadata": {
  "kernelspec": {
   "display_name": "Python 3 (ipykernel)",
   "language": "python",
   "name": "python3"
  },
  "language_info": {
   "codemirror_mode": {
    "name": "ipython",
    "version": 3
   },
   "file_extension": ".py",
   "mimetype": "text/x-python",
   "name": "python",
   "nbconvert_exporter": "python",
   "pygments_lexer": "ipython3",
   "version": "3.11.5"
  }
 },
 "nbformat": 4,
 "nbformat_minor": 5
}
